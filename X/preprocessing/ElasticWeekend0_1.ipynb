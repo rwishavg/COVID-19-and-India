{
  "nbformat": 4,
  "nbformat_minor": 0,
  "metadata": {
    "colab": {
      "name": "ElasticWeekend0.1.ipynb",
      "provenance": [],
      "collapsed_sections": []
    },
    "kernelspec": {
      "name": "python3",
      "display_name": "Python 3"
    },
    "language_info": {
      "name": "python"
    }
  },
  "cells": [
    {
      "cell_type": "code",
      "metadata": {
        "colab": {
          "base_uri": "https://localhost:8080/"
        },
        "id": "vw6ZOxxpRzvk",
        "outputId": "ac8374ac-eace-416f-99c2-f8f20949707e"
      },
      "source": [
        "!pip install elasticsearch==7.9"
      ],
      "execution_count": 1,
      "outputs": [
        {
          "output_type": "stream",
          "text": [
            "Requirement already satisfied: elasticsearch==7.9 in /usr/local/lib/python3.7/dist-packages (7.9.0)\n",
            "Requirement already satisfied: urllib3>=1.21.1 in /usr/local/lib/python3.7/dist-packages (from elasticsearch==7.9) (1.24.3)\n",
            "Requirement already satisfied: certifi in /usr/local/lib/python3.7/dist-packages (from elasticsearch==7.9) (2020.12.5)\n"
          ],
          "name": "stdout"
        }
      ]
    },
    {
      "cell_type": "code",
      "metadata": {
        "id": "rXDY3js2zNfm"
      },
      "source": [
        "import numpy as np \n",
        "import pandas as pd \n",
        "from matplotlib import pyplot as plt\n",
        "import seaborn as sns\n",
        "import os\n",
        "from math import sqrt\n",
        "from google.colab import files"
      ],
      "execution_count": 2,
      "outputs": []
    },
    {
      "cell_type": "code",
      "metadata": {
        "id": "a3pV71i7RkIX"
      },
      "source": [
        "import json\n",
        "import csv\n",
        "import requests\n",
        "import re\n",
        "from elasticsearch import helpers, Elasticsearch"
      ],
      "execution_count": 3,
      "outputs": []
    },
    {
      "cell_type": "code",
      "metadata": {
        "colab": {
          "resources": {
            "http://localhost:8080/nbextensions/google.colab/files.js": {
              "data": "Ly8gQ29weXJpZ2h0IDIwMTcgR29vZ2xlIExMQwovLwovLyBMaWNlbnNlZCB1bmRlciB0aGUgQXBhY2hlIExpY2Vuc2UsIFZlcnNpb24gMi4wICh0aGUgIkxpY2Vuc2UiKTsKLy8geW91IG1heSBub3QgdXNlIHRoaXMgZmlsZSBleGNlcHQgaW4gY29tcGxpYW5jZSB3aXRoIHRoZSBMaWNlbnNlLgovLyBZb3UgbWF5IG9idGFpbiBhIGNvcHkgb2YgdGhlIExpY2Vuc2UgYXQKLy8KLy8gICAgICBodHRwOi8vd3d3LmFwYWNoZS5vcmcvbGljZW5zZXMvTElDRU5TRS0yLjAKLy8KLy8gVW5sZXNzIHJlcXVpcmVkIGJ5IGFwcGxpY2FibGUgbGF3IG9yIGFncmVlZCB0byBpbiB3cml0aW5nLCBzb2Z0d2FyZQovLyBkaXN0cmlidXRlZCB1bmRlciB0aGUgTGljZW5zZSBpcyBkaXN0cmlidXRlZCBvbiBhbiAiQVMgSVMiIEJBU0lTLAovLyBXSVRIT1VUIFdBUlJBTlRJRVMgT1IgQ09ORElUSU9OUyBPRiBBTlkgS0lORCwgZWl0aGVyIGV4cHJlc3Mgb3IgaW1wbGllZC4KLy8gU2VlIHRoZSBMaWNlbnNlIGZvciB0aGUgc3BlY2lmaWMgbGFuZ3VhZ2UgZ292ZXJuaW5nIHBlcm1pc3Npb25zIGFuZAovLyBsaW1pdGF0aW9ucyB1bmRlciB0aGUgTGljZW5zZS4KCi8qKgogKiBAZmlsZW92ZXJ2aWV3IEhlbHBlcnMgZm9yIGdvb2dsZS5jb2xhYiBQeXRob24gbW9kdWxlLgogKi8KKGZ1bmN0aW9uKHNjb3BlKSB7CmZ1bmN0aW9uIHNwYW4odGV4dCwgc3R5bGVBdHRyaWJ1dGVzID0ge30pIHsKICBjb25zdCBlbGVtZW50ID0gZG9jdW1lbnQuY3JlYXRlRWxlbWVudCgnc3BhbicpOwogIGVsZW1lbnQudGV4dENvbnRlbnQgPSB0ZXh0OwogIGZvciAoY29uc3Qga2V5IG9mIE9iamVjdC5rZXlzKHN0eWxlQXR0cmlidXRlcykpIHsKICAgIGVsZW1lbnQuc3R5bGVba2V5XSA9IHN0eWxlQXR0cmlidXRlc1trZXldOwogIH0KICByZXR1cm4gZWxlbWVudDsKfQoKLy8gTWF4IG51bWJlciBvZiBieXRlcyB3aGljaCB3aWxsIGJlIHVwbG9hZGVkIGF0IGEgdGltZS4KY29uc3QgTUFYX1BBWUxPQURfU0laRSA9IDEwMCAqIDEwMjQ7CgpmdW5jdGlvbiBfdXBsb2FkRmlsZXMoaW5wdXRJZCwgb3V0cHV0SWQpIHsKICBjb25zdCBzdGVwcyA9IHVwbG9hZEZpbGVzU3RlcChpbnB1dElkLCBvdXRwdXRJZCk7CiAgY29uc3Qgb3V0cHV0RWxlbWVudCA9IGRvY3VtZW50LmdldEVsZW1lbnRCeUlkKG91dHB1dElkKTsKICAvLyBDYWNoZSBzdGVwcyBvbiB0aGUgb3V0cHV0RWxlbWVudCB0byBtYWtlIGl0IGF2YWlsYWJsZSBmb3IgdGhlIG5leHQgY2FsbAogIC8vIHRvIHVwbG9hZEZpbGVzQ29udGludWUgZnJvbSBQeXRob24uCiAgb3V0cHV0RWxlbWVudC5zdGVwcyA9IHN0ZXBzOwoKICByZXR1cm4gX3VwbG9hZEZpbGVzQ29udGludWUob3V0cHV0SWQpOwp9CgovLyBUaGlzIGlzIHJvdWdobHkgYW4gYXN5bmMgZ2VuZXJhdG9yIChub3Qgc3VwcG9ydGVkIGluIHRoZSBicm93c2VyIHlldCksCi8vIHdoZXJlIHRoZXJlIGFyZSBtdWx0aXBsZSBhc3luY2hyb25vdXMgc3RlcHMgYW5kIHRoZSBQeXRob24gc2lkZSBpcyBnb2luZwovLyB0byBwb2xsIGZvciBjb21wbGV0aW9uIG9mIGVhY2ggc3RlcC4KLy8gVGhpcyB1c2VzIGEgUHJvbWlzZSB0byBibG9jayB0aGUgcHl0aG9uIHNpZGUgb24gY29tcGxldGlvbiBvZiBlYWNoIHN0ZXAsCi8vIHRoZW4gcGFzc2VzIHRoZSByZXN1bHQgb2YgdGhlIHByZXZpb3VzIHN0ZXAgYXMgdGhlIGlucHV0IHRvIHRoZSBuZXh0IHN0ZXAuCmZ1bmN0aW9uIF91cGxvYWRGaWxlc0NvbnRpbnVlKG91dHB1dElkKSB7CiAgY29uc3Qgb3V0cHV0RWxlbWVudCA9IGRvY3VtZW50LmdldEVsZW1lbnRCeUlkKG91dHB1dElkKTsKICBjb25zdCBzdGVwcyA9IG91dHB1dEVsZW1lbnQuc3RlcHM7CgogIGNvbnN0IG5leHQgPSBzdGVwcy5uZXh0KG91dHB1dEVsZW1lbnQubGFzdFByb21pc2VWYWx1ZSk7CiAgcmV0dXJuIFByb21pc2UucmVzb2x2ZShuZXh0LnZhbHVlLnByb21pc2UpLnRoZW4oKHZhbHVlKSA9PiB7CiAgICAvLyBDYWNoZSB0aGUgbGFzdCBwcm9taXNlIHZhbHVlIHRvIG1ha2UgaXQgYXZhaWxhYmxlIHRvIHRoZSBuZXh0CiAgICAvLyBzdGVwIG9mIHRoZSBnZW5lcmF0b3IuCiAgICBvdXRwdXRFbGVtZW50Lmxhc3RQcm9taXNlVmFsdWUgPSB2YWx1ZTsKICAgIHJldHVybiBuZXh0LnZhbHVlLnJlc3BvbnNlOwogIH0pOwp9CgovKioKICogR2VuZXJhdG9yIGZ1bmN0aW9uIHdoaWNoIGlzIGNhbGxlZCBiZXR3ZWVuIGVhY2ggYXN5bmMgc3RlcCBvZiB0aGUgdXBsb2FkCiAqIHByb2Nlc3MuCiAqIEBwYXJhbSB7c3RyaW5nfSBpbnB1dElkIEVsZW1lbnQgSUQgb2YgdGhlIGlucHV0IGZpbGUgcGlja2VyIGVsZW1lbnQuCiAqIEBwYXJhbSB7c3RyaW5nfSBvdXRwdXRJZCBFbGVtZW50IElEIG9mIHRoZSBvdXRwdXQgZGlzcGxheS4KICogQHJldHVybiB7IUl0ZXJhYmxlPCFPYmplY3Q+fSBJdGVyYWJsZSBvZiBuZXh0IHN0ZXBzLgogKi8KZnVuY3Rpb24qIHVwbG9hZEZpbGVzU3RlcChpbnB1dElkLCBvdXRwdXRJZCkgewogIGNvbnN0IGlucHV0RWxlbWVudCA9IGRvY3VtZW50LmdldEVsZW1lbnRCeUlkKGlucHV0SWQpOwogIGlucHV0RWxlbWVudC5kaXNhYmxlZCA9IGZhbHNlOwoKICBjb25zdCBvdXRwdXRFbGVtZW50ID0gZG9jdW1lbnQuZ2V0RWxlbWVudEJ5SWQob3V0cHV0SWQpOwogIG91dHB1dEVsZW1lbnQuaW5uZXJIVE1MID0gJyc7CgogIGNvbnN0IHBpY2tlZFByb21pc2UgPSBuZXcgUHJvbWlzZSgocmVzb2x2ZSkgPT4gewogICAgaW5wdXRFbGVtZW50LmFkZEV2ZW50TGlzdGVuZXIoJ2NoYW5nZScsIChlKSA9PiB7CiAgICAgIHJlc29sdmUoZS50YXJnZXQuZmlsZXMpOwogICAgfSk7CiAgfSk7CgogIGNvbnN0IGNhbmNlbCA9IGRvY3VtZW50LmNyZWF0ZUVsZW1lbnQoJ2J1dHRvbicpOwogIGlucHV0RWxlbWVudC5wYXJlbnRFbGVtZW50LmFwcGVuZENoaWxkKGNhbmNlbCk7CiAgY2FuY2VsLnRleHRDb250ZW50ID0gJ0NhbmNlbCB1cGxvYWQnOwogIGNvbnN0IGNhbmNlbFByb21pc2UgPSBuZXcgUHJvbWlzZSgocmVzb2x2ZSkgPT4gewogICAgY2FuY2VsLm9uY2xpY2sgPSAoKSA9PiB7CiAgICAgIHJlc29sdmUobnVsbCk7CiAgICB9OwogIH0pOwoKICAvLyBXYWl0IGZvciB0aGUgdXNlciB0byBwaWNrIHRoZSBmaWxlcy4KICBjb25zdCBmaWxlcyA9IHlpZWxkIHsKICAgIHByb21pc2U6IFByb21pc2UucmFjZShbcGlja2VkUHJvbWlzZSwgY2FuY2VsUHJvbWlzZV0pLAogICAgcmVzcG9uc2U6IHsKICAgICAgYWN0aW9uOiAnc3RhcnRpbmcnLAogICAgfQogIH07CgogIGNhbmNlbC5yZW1vdmUoKTsKCiAgLy8gRGlzYWJsZSB0aGUgaW5wdXQgZWxlbWVudCBzaW5jZSBmdXJ0aGVyIHBpY2tzIGFyZSBub3QgYWxsb3dlZC4KICBpbnB1dEVsZW1lbnQuZGlzYWJsZWQgPSB0cnVlOwoKICBpZiAoIWZpbGVzKSB7CiAgICByZXR1cm4gewogICAgICByZXNwb25zZTogewogICAgICAgIGFjdGlvbjogJ2NvbXBsZXRlJywKICAgICAgfQogICAgfTsKICB9CgogIGZvciAoY29uc3QgZmlsZSBvZiBmaWxlcykgewogICAgY29uc3QgbGkgPSBkb2N1bWVudC5jcmVhdGVFbGVtZW50KCdsaScpOwogICAgbGkuYXBwZW5kKHNwYW4oZmlsZS5uYW1lLCB7Zm9udFdlaWdodDogJ2JvbGQnfSkpOwogICAgbGkuYXBwZW5kKHNwYW4oCiAgICAgICAgYCgke2ZpbGUudHlwZSB8fCAnbi9hJ30pIC0gJHtmaWxlLnNpemV9IGJ5dGVzLCBgICsKICAgICAgICBgbGFzdCBtb2RpZmllZDogJHsKICAgICAgICAgICAgZmlsZS5sYXN0TW9kaWZpZWREYXRlID8gZmlsZS5sYXN0TW9kaWZpZWREYXRlLnRvTG9jYWxlRGF0ZVN0cmluZygpIDoKICAgICAgICAgICAgICAgICAgICAgICAgICAgICAgICAgICAgJ24vYSd9IC0gYCkpOwogICAgY29uc3QgcGVyY2VudCA9IHNwYW4oJzAlIGRvbmUnKTsKICAgIGxpLmFwcGVuZENoaWxkKHBlcmNlbnQpOwoKICAgIG91dHB1dEVsZW1lbnQuYXBwZW5kQ2hpbGQobGkpOwoKICAgIGNvbnN0IGZpbGVEYXRhUHJvbWlzZSA9IG5ldyBQcm9taXNlKChyZXNvbHZlKSA9PiB7CiAgICAgIGNvbnN0IHJlYWRlciA9IG5ldyBGaWxlUmVhZGVyKCk7CiAgICAgIHJlYWRlci5vbmxvYWQgPSAoZSkgPT4gewogICAgICAgIHJlc29sdmUoZS50YXJnZXQucmVzdWx0KTsKICAgICAgfTsKICAgICAgcmVhZGVyLnJlYWRBc0FycmF5QnVmZmVyKGZpbGUpOwogICAgfSk7CiAgICAvLyBXYWl0IGZvciB0aGUgZGF0YSB0byBiZSByZWFkeS4KICAgIGxldCBmaWxlRGF0YSA9IHlpZWxkIHsKICAgICAgcHJvbWlzZTogZmlsZURhdGFQcm9taXNlLAogICAgICByZXNwb25zZTogewogICAgICAgIGFjdGlvbjogJ2NvbnRpbnVlJywKICAgICAgfQogICAgfTsKCiAgICAvLyBVc2UgYSBjaHVua2VkIHNlbmRpbmcgdG8gYXZvaWQgbWVzc2FnZSBzaXplIGxpbWl0cy4gU2VlIGIvNjIxMTU2NjAuCiAgICBsZXQgcG9zaXRpb24gPSAwOwogICAgd2hpbGUgKHBvc2l0aW9uIDwgZmlsZURhdGEuYnl0ZUxlbmd0aCkgewogICAgICBjb25zdCBsZW5ndGggPSBNYXRoLm1pbihmaWxlRGF0YS5ieXRlTGVuZ3RoIC0gcG9zaXRpb24sIE1BWF9QQVlMT0FEX1NJWkUpOwogICAgICBjb25zdCBjaHVuayA9IG5ldyBVaW50OEFycmF5KGZpbGVEYXRhLCBwb3NpdGlvbiwgbGVuZ3RoKTsKICAgICAgcG9zaXRpb24gKz0gbGVuZ3RoOwoKICAgICAgY29uc3QgYmFzZTY0ID0gYnRvYShTdHJpbmcuZnJvbUNoYXJDb2RlLmFwcGx5KG51bGwsIGNodW5rKSk7CiAgICAgIHlpZWxkIHsKICAgICAgICByZXNwb25zZTogewogICAgICAgICAgYWN0aW9uOiAnYXBwZW5kJywKICAgICAgICAgIGZpbGU6IGZpbGUubmFtZSwKICAgICAgICAgIGRhdGE6IGJhc2U2NCwKICAgICAgICB9LAogICAgICB9OwogICAgICBwZXJjZW50LnRleHRDb250ZW50ID0KICAgICAgICAgIGAke01hdGgucm91bmQoKHBvc2l0aW9uIC8gZmlsZURhdGEuYnl0ZUxlbmd0aCkgKiAxMDApfSUgZG9uZWA7CiAgICB9CiAgfQoKICAvLyBBbGwgZG9uZS4KICB5aWVsZCB7CiAgICByZXNwb25zZTogewogICAgICBhY3Rpb246ICdjb21wbGV0ZScsCiAgICB9CiAgfTsKfQoKc2NvcGUuZ29vZ2xlID0gc2NvcGUuZ29vZ2xlIHx8IHt9OwpzY29wZS5nb29nbGUuY29sYWIgPSBzY29wZS5nb29nbGUuY29sYWIgfHwge307CnNjb3BlLmdvb2dsZS5jb2xhYi5fZmlsZXMgPSB7CiAgX3VwbG9hZEZpbGVzLAogIF91cGxvYWRGaWxlc0NvbnRpbnVlLAp9Owp9KShzZWxmKTsK",
              "ok": true,
              "headers": [
                [
                  "content-type",
                  "application/javascript"
                ]
              ],
              "status": 200,
              "status_text": ""
            }
          },
          "base_uri": "https://localhost:8080/",
          "height": 142
        },
        "id": "kLukotgk0g32",
        "outputId": "75798b68-89d8-4fce-bfe1-b5efb2e6b078"
      },
      "source": [
        "uploaded = files.upload()"
      ],
      "execution_count": 5,
      "outputs": [
        {
          "output_type": "display_data",
          "data": {
            "text/html": [
              "\n",
              "     <input type=\"file\" id=\"files-8a2474f7-238b-46ca-aebc-a94dbfa19715\" name=\"files[]\" multiple disabled\n",
              "        style=\"border:none\" />\n",
              "     <output id=\"result-8a2474f7-238b-46ca-aebc-a94dbfa19715\">\n",
              "      Upload widget is only available when the cell has been executed in the\n",
              "      current browser session. Please rerun this cell to enable.\n",
              "      </output>\n",
              "      <script src=\"/nbextensions/google.colab/files.js\"></script> "
            ],
            "text/plain": [
              "<IPython.core.display.HTML object>"
            ]
          },
          "metadata": {
            "tags": []
          }
        },
        {
          "output_type": "stream",
          "text": [
            "Saving covid_19_india.csv to covid_19_india.csv\n",
            "Saving covid_vaccine_statewise.csv to covid_vaccine_statewise.csv\n",
            "Saving StatewiseTestingDetails.csv to StatewiseTestingDetails.csv\n"
          ],
          "name": "stdout"
        }
      ]
    },
    {
      "cell_type": "code",
      "metadata": {
        "colab": {
          "base_uri": "https://localhost:8080/",
          "height": 194
        },
        "id": "h1eea06e0tEY",
        "outputId": "4740da4a-b231-4e37-9f5d-de592c40e4eb"
      },
      "source": [
        "Covid_Testing = pd.read_csv('StatewiseTestingDetails.csv')\n",
        "Covid_Testing.head()"
      ],
      "execution_count": 4,
      "outputs": [
        {
          "output_type": "execute_result",
          "data": {
            "text/html": [
              "<div>\n",
              "<style scoped>\n",
              "    .dataframe tbody tr th:only-of-type {\n",
              "        vertical-align: middle;\n",
              "    }\n",
              "\n",
              "    .dataframe tbody tr th {\n",
              "        vertical-align: top;\n",
              "    }\n",
              "\n",
              "    .dataframe thead th {\n",
              "        text-align: right;\n",
              "    }\n",
              "</style>\n",
              "<table border=\"1\" class=\"dataframe\">\n",
              "  <thead>\n",
              "    <tr style=\"text-align: right;\">\n",
              "      <th></th>\n",
              "      <th>Date</th>\n",
              "      <th>State</th>\n",
              "      <th>TotalSamples</th>\n",
              "      <th>Negative</th>\n",
              "      <th>Positive</th>\n",
              "    </tr>\n",
              "  </thead>\n",
              "  <tbody>\n",
              "    <tr>\n",
              "      <th>0</th>\n",
              "      <td>2020-04-17</td>\n",
              "      <td>Andaman and Nicobar Islands</td>\n",
              "      <td>1403.0</td>\n",
              "      <td>1210</td>\n",
              "      <td>12.0</td>\n",
              "    </tr>\n",
              "    <tr>\n",
              "      <th>1</th>\n",
              "      <td>2020-04-24</td>\n",
              "      <td>Andaman and Nicobar Islands</td>\n",
              "      <td>2679.0</td>\n",
              "      <td>NaN</td>\n",
              "      <td>27.0</td>\n",
              "    </tr>\n",
              "    <tr>\n",
              "      <th>2</th>\n",
              "      <td>2020-04-27</td>\n",
              "      <td>Andaman and Nicobar Islands</td>\n",
              "      <td>2848.0</td>\n",
              "      <td>NaN</td>\n",
              "      <td>33.0</td>\n",
              "    </tr>\n",
              "    <tr>\n",
              "      <th>3</th>\n",
              "      <td>2020-05-01</td>\n",
              "      <td>Andaman and Nicobar Islands</td>\n",
              "      <td>3754.0</td>\n",
              "      <td>NaN</td>\n",
              "      <td>33.0</td>\n",
              "    </tr>\n",
              "    <tr>\n",
              "      <th>4</th>\n",
              "      <td>2020-05-16</td>\n",
              "      <td>Andaman and Nicobar Islands</td>\n",
              "      <td>6677.0</td>\n",
              "      <td>NaN</td>\n",
              "      <td>33.0</td>\n",
              "    </tr>\n",
              "  </tbody>\n",
              "</table>\n",
              "</div>"
            ],
            "text/plain": [
              "         Date                        State  TotalSamples Negative  Positive\n",
              "0  2020-04-17  Andaman and Nicobar Islands        1403.0     1210      12.0\n",
              "1  2020-04-24  Andaman and Nicobar Islands        2679.0      NaN      27.0\n",
              "2  2020-04-27  Andaman and Nicobar Islands        2848.0      NaN      33.0\n",
              "3  2020-05-01  Andaman and Nicobar Islands        3754.0      NaN      33.0\n",
              "4  2020-05-16  Andaman and Nicobar Islands        6677.0      NaN      33.0"
            ]
          },
          "metadata": {
            "tags": []
          },
          "execution_count": 4
        }
      ]
    },
    {
      "cell_type": "code",
      "metadata": {
        "colab": {
          "base_uri": "https://localhost:8080/",
          "height": 194
        },
        "id": "O8Kn1dQp18Vf",
        "outputId": "f23eb63b-f92c-4cdb-813f-793e72c13f4a"
      },
      "source": [
        "Covid_Summary = pd.read_csv('covid_19_india.csv')\n",
        "Covid_Summary.head()"
      ],
      "execution_count": 5,
      "outputs": [
        {
          "output_type": "execute_result",
          "data": {
            "text/html": [
              "<div>\n",
              "<style scoped>\n",
              "    .dataframe tbody tr th:only-of-type {\n",
              "        vertical-align: middle;\n",
              "    }\n",
              "\n",
              "    .dataframe tbody tr th {\n",
              "        vertical-align: top;\n",
              "    }\n",
              "\n",
              "    .dataframe thead th {\n",
              "        text-align: right;\n",
              "    }\n",
              "</style>\n",
              "<table border=\"1\" class=\"dataframe\">\n",
              "  <thead>\n",
              "    <tr style=\"text-align: right;\">\n",
              "      <th></th>\n",
              "      <th>Sno</th>\n",
              "      <th>Date</th>\n",
              "      <th>Time</th>\n",
              "      <th>State/UnionTerritory</th>\n",
              "      <th>ConfirmedIndianNational</th>\n",
              "      <th>ConfirmedForeignNational</th>\n",
              "      <th>Cured</th>\n",
              "      <th>Deaths</th>\n",
              "      <th>Confirmed</th>\n",
              "    </tr>\n",
              "  </thead>\n",
              "  <tbody>\n",
              "    <tr>\n",
              "      <th>0</th>\n",
              "      <td>1.0</td>\n",
              "      <td>2020-01-30</td>\n",
              "      <td>6:00 PM</td>\n",
              "      <td>Kerala</td>\n",
              "      <td>1</td>\n",
              "      <td>0</td>\n",
              "      <td>0.0</td>\n",
              "      <td>0.0</td>\n",
              "      <td>1.0</td>\n",
              "    </tr>\n",
              "    <tr>\n",
              "      <th>1</th>\n",
              "      <td>2.0</td>\n",
              "      <td>2020-01-31</td>\n",
              "      <td>6:00 PM</td>\n",
              "      <td>Kerala</td>\n",
              "      <td>1</td>\n",
              "      <td>0</td>\n",
              "      <td>0.0</td>\n",
              "      <td>0.0</td>\n",
              "      <td>1.0</td>\n",
              "    </tr>\n",
              "    <tr>\n",
              "      <th>2</th>\n",
              "      <td>3.0</td>\n",
              "      <td>2020-02-01</td>\n",
              "      <td>6:00 PM</td>\n",
              "      <td>Kerala</td>\n",
              "      <td>2</td>\n",
              "      <td>0</td>\n",
              "      <td>0.0</td>\n",
              "      <td>0.0</td>\n",
              "      <td>2.0</td>\n",
              "    </tr>\n",
              "    <tr>\n",
              "      <th>3</th>\n",
              "      <td>4.0</td>\n",
              "      <td>2020-02-02</td>\n",
              "      <td>6:00 PM</td>\n",
              "      <td>Kerala</td>\n",
              "      <td>3</td>\n",
              "      <td>0</td>\n",
              "      <td>0.0</td>\n",
              "      <td>0.0</td>\n",
              "      <td>3.0</td>\n",
              "    </tr>\n",
              "    <tr>\n",
              "      <th>4</th>\n",
              "      <td>5.0</td>\n",
              "      <td>2020-02-03</td>\n",
              "      <td>6:00 PM</td>\n",
              "      <td>Kerala</td>\n",
              "      <td>3</td>\n",
              "      <td>0</td>\n",
              "      <td>0.0</td>\n",
              "      <td>0.0</td>\n",
              "      <td>3.0</td>\n",
              "    </tr>\n",
              "  </tbody>\n",
              "</table>\n",
              "</div>"
            ],
            "text/plain": [
              "   Sno        Date     Time  ... Cured Deaths Confirmed\n",
              "0  1.0  2020-01-30  6:00 PM  ...   0.0    0.0       1.0\n",
              "1  2.0  2020-01-31  6:00 PM  ...   0.0    0.0       1.0\n",
              "2  3.0  2020-02-01  6:00 PM  ...   0.0    0.0       2.0\n",
              "3  4.0  2020-02-02  6:00 PM  ...   0.0    0.0       3.0\n",
              "4  5.0  2020-02-03  6:00 PM  ...   0.0    0.0       3.0\n",
              "\n",
              "[5 rows x 9 columns]"
            ]
          },
          "metadata": {
            "tags": []
          },
          "execution_count": 5
        }
      ]
    },
    {
      "cell_type": "code",
      "metadata": {
        "colab": {
          "base_uri": "https://localhost:8080/"
        },
        "id": "jO1GTXTiOP91",
        "outputId": "5139b754-5372-4f32-f4ce-81f34f60b681"
      },
      "source": [
        "Covid_Summary.isnull().sum()"
      ],
      "execution_count": 6,
      "outputs": [
        {
          "output_type": "execute_result",
          "data": {
            "text/plain": [
              "Sno                         28\n",
              "Date                        28\n",
              "Time                        28\n",
              "State/UnionTerritory        28\n",
              "ConfirmedIndianNational     28\n",
              "ConfirmedForeignNational    28\n",
              "Cured                       28\n",
              "Deaths                      28\n",
              "Confirmed                   28\n",
              "dtype: int64"
            ]
          },
          "metadata": {
            "tags": []
          },
          "execution_count": 6
        }
      ]
    },
    {
      "cell_type": "code",
      "metadata": {
        "colab": {
          "base_uri": "https://localhost:8080/"
        },
        "id": "8tUNh_6FOY7s",
        "outputId": "0d4fc44c-326f-40ca-b5a4-699498ed4140"
      },
      "source": [
        "Covid_Summary.info()"
      ],
      "execution_count": 7,
      "outputs": [
        {
          "output_type": "stream",
          "text": [
            "<class 'pandas.core.frame.DataFrame'>\n",
            "RangeIndex: 15114 entries, 0 to 15113\n",
            "Data columns (total 9 columns):\n",
            " #   Column                    Non-Null Count  Dtype  \n",
            "---  ------                    --------------  -----  \n",
            " 0   Sno                       15086 non-null  float64\n",
            " 1   Date                      15086 non-null  object \n",
            " 2   Time                      15086 non-null  object \n",
            " 3   State/UnionTerritory      15086 non-null  object \n",
            " 4   ConfirmedIndianNational   15086 non-null  object \n",
            " 5   ConfirmedForeignNational  15086 non-null  object \n",
            " 6   Cured                     15086 non-null  float64\n",
            " 7   Deaths                    15086 non-null  float64\n",
            " 8   Confirmed                 15086 non-null  float64\n",
            "dtypes: float64(4), object(5)\n",
            "memory usage: 1.0+ MB\n"
          ],
          "name": "stdout"
        }
      ]
    },
    {
      "cell_type": "code",
      "metadata": {
        "id": "eZGpKFKUObDy"
      },
      "source": [
        "Covid_Summary['Date'] = pd.to_datetime(Covid_Summary['Date'],format=\"%Y/%m/%d\")\n",
        "Covid_Testing['Date'] = pd.to_datetime(Covid_Testing['Date'],format=\"%Y/%m/%d\")"
      ],
      "execution_count": 8,
      "outputs": []
    },
    {
      "cell_type": "code",
      "metadata": {
        "colab": {
          "base_uri": "https://localhost:8080/",
          "height": 194
        },
        "id": "149bn0kJPcaS",
        "outputId": "f5808cb3-502b-46ce-9972-45aad8dbbfa2"
      },
      "source": [
        "Covid_Summary = Covid_Summary.drop(['Sno','ConfirmedIndianNational', 'ConfirmedForeignNational'], axis=1)\n",
        "Covid_Summary.head()"
      ],
      "execution_count": 9,
      "outputs": [
        {
          "output_type": "execute_result",
          "data": {
            "text/html": [
              "<div>\n",
              "<style scoped>\n",
              "    .dataframe tbody tr th:only-of-type {\n",
              "        vertical-align: middle;\n",
              "    }\n",
              "\n",
              "    .dataframe tbody tr th {\n",
              "        vertical-align: top;\n",
              "    }\n",
              "\n",
              "    .dataframe thead th {\n",
              "        text-align: right;\n",
              "    }\n",
              "</style>\n",
              "<table border=\"1\" class=\"dataframe\">\n",
              "  <thead>\n",
              "    <tr style=\"text-align: right;\">\n",
              "      <th></th>\n",
              "      <th>Date</th>\n",
              "      <th>Time</th>\n",
              "      <th>State/UnionTerritory</th>\n",
              "      <th>Cured</th>\n",
              "      <th>Deaths</th>\n",
              "      <th>Confirmed</th>\n",
              "    </tr>\n",
              "  </thead>\n",
              "  <tbody>\n",
              "    <tr>\n",
              "      <th>0</th>\n",
              "      <td>2020-01-30</td>\n",
              "      <td>6:00 PM</td>\n",
              "      <td>Kerala</td>\n",
              "      <td>0.0</td>\n",
              "      <td>0.0</td>\n",
              "      <td>1.0</td>\n",
              "    </tr>\n",
              "    <tr>\n",
              "      <th>1</th>\n",
              "      <td>2020-01-31</td>\n",
              "      <td>6:00 PM</td>\n",
              "      <td>Kerala</td>\n",
              "      <td>0.0</td>\n",
              "      <td>0.0</td>\n",
              "      <td>1.0</td>\n",
              "    </tr>\n",
              "    <tr>\n",
              "      <th>2</th>\n",
              "      <td>2020-02-01</td>\n",
              "      <td>6:00 PM</td>\n",
              "      <td>Kerala</td>\n",
              "      <td>0.0</td>\n",
              "      <td>0.0</td>\n",
              "      <td>2.0</td>\n",
              "    </tr>\n",
              "    <tr>\n",
              "      <th>3</th>\n",
              "      <td>2020-02-02</td>\n",
              "      <td>6:00 PM</td>\n",
              "      <td>Kerala</td>\n",
              "      <td>0.0</td>\n",
              "      <td>0.0</td>\n",
              "      <td>3.0</td>\n",
              "    </tr>\n",
              "    <tr>\n",
              "      <th>4</th>\n",
              "      <td>2020-02-03</td>\n",
              "      <td>6:00 PM</td>\n",
              "      <td>Kerala</td>\n",
              "      <td>0.0</td>\n",
              "      <td>0.0</td>\n",
              "      <td>3.0</td>\n",
              "    </tr>\n",
              "  </tbody>\n",
              "</table>\n",
              "</div>"
            ],
            "text/plain": [
              "        Date     Time State/UnionTerritory  Cured  Deaths  Confirmed\n",
              "0 2020-01-30  6:00 PM               Kerala    0.0     0.0        1.0\n",
              "1 2020-01-31  6:00 PM               Kerala    0.0     0.0        1.0\n",
              "2 2020-02-01  6:00 PM               Kerala    0.0     0.0        2.0\n",
              "3 2020-02-02  6:00 PM               Kerala    0.0     0.0        3.0\n",
              "4 2020-02-03  6:00 PM               Kerala    0.0     0.0        3.0"
            ]
          },
          "metadata": {
            "tags": []
          },
          "execution_count": 9
        }
      ]
    },
    {
      "cell_type": "code",
      "metadata": {
        "colab": {
          "base_uri": "https://localhost:8080/",
          "height": 194
        },
        "id": "PHRjWm0pPnMT",
        "outputId": "52442455-bc5b-4fff-c0c4-3c5b905a5420"
      },
      "source": [
        "Covid_Summary['Active'] = Covid_Summary['Confirmed'] - Covid_Summary['Cured'] - Covid_Summary['Deaths']\n",
        "Covid_Summary.head()"
      ],
      "execution_count": 10,
      "outputs": [
        {
          "output_type": "execute_result",
          "data": {
            "text/html": [
              "<div>\n",
              "<style scoped>\n",
              "    .dataframe tbody tr th:only-of-type {\n",
              "        vertical-align: middle;\n",
              "    }\n",
              "\n",
              "    .dataframe tbody tr th {\n",
              "        vertical-align: top;\n",
              "    }\n",
              "\n",
              "    .dataframe thead th {\n",
              "        text-align: right;\n",
              "    }\n",
              "</style>\n",
              "<table border=\"1\" class=\"dataframe\">\n",
              "  <thead>\n",
              "    <tr style=\"text-align: right;\">\n",
              "      <th></th>\n",
              "      <th>Date</th>\n",
              "      <th>Time</th>\n",
              "      <th>State/UnionTerritory</th>\n",
              "      <th>Cured</th>\n",
              "      <th>Deaths</th>\n",
              "      <th>Confirmed</th>\n",
              "      <th>Active</th>\n",
              "    </tr>\n",
              "  </thead>\n",
              "  <tbody>\n",
              "    <tr>\n",
              "      <th>0</th>\n",
              "      <td>2020-01-30</td>\n",
              "      <td>6:00 PM</td>\n",
              "      <td>Kerala</td>\n",
              "      <td>0.0</td>\n",
              "      <td>0.0</td>\n",
              "      <td>1.0</td>\n",
              "      <td>1.0</td>\n",
              "    </tr>\n",
              "    <tr>\n",
              "      <th>1</th>\n",
              "      <td>2020-01-31</td>\n",
              "      <td>6:00 PM</td>\n",
              "      <td>Kerala</td>\n",
              "      <td>0.0</td>\n",
              "      <td>0.0</td>\n",
              "      <td>1.0</td>\n",
              "      <td>1.0</td>\n",
              "    </tr>\n",
              "    <tr>\n",
              "      <th>2</th>\n",
              "      <td>2020-02-01</td>\n",
              "      <td>6:00 PM</td>\n",
              "      <td>Kerala</td>\n",
              "      <td>0.0</td>\n",
              "      <td>0.0</td>\n",
              "      <td>2.0</td>\n",
              "      <td>2.0</td>\n",
              "    </tr>\n",
              "    <tr>\n",
              "      <th>3</th>\n",
              "      <td>2020-02-02</td>\n",
              "      <td>6:00 PM</td>\n",
              "      <td>Kerala</td>\n",
              "      <td>0.0</td>\n",
              "      <td>0.0</td>\n",
              "      <td>3.0</td>\n",
              "      <td>3.0</td>\n",
              "    </tr>\n",
              "    <tr>\n",
              "      <th>4</th>\n",
              "      <td>2020-02-03</td>\n",
              "      <td>6:00 PM</td>\n",
              "      <td>Kerala</td>\n",
              "      <td>0.0</td>\n",
              "      <td>0.0</td>\n",
              "      <td>3.0</td>\n",
              "      <td>3.0</td>\n",
              "    </tr>\n",
              "  </tbody>\n",
              "</table>\n",
              "</div>"
            ],
            "text/plain": [
              "        Date     Time State/UnionTerritory  Cured  Deaths  Confirmed  Active\n",
              "0 2020-01-30  6:00 PM               Kerala    0.0     0.0        1.0     1.0\n",
              "1 2020-01-31  6:00 PM               Kerala    0.0     0.0        1.0     1.0\n",
              "2 2020-02-01  6:00 PM               Kerala    0.0     0.0        2.0     2.0\n",
              "3 2020-02-02  6:00 PM               Kerala    0.0     0.0        3.0     3.0\n",
              "4 2020-02-03  6:00 PM               Kerala    0.0     0.0        3.0     3.0"
            ]
          },
          "metadata": {
            "tags": []
          },
          "execution_count": 10
        }
      ]
    },
    {
      "cell_type": "code",
      "metadata": {
        "id": "GBnUTidpQwZw"
      },
      "source": [
        "india_cases = Covid_Summary[Covid_Summary['Date'] == Covid_Summary['Date'].max()].copy().fillna(0)\n",
        "india_cases = india_cases.drop(['Time'], axis=1)"
      ],
      "execution_count": 11,
      "outputs": []
    },
    {
      "cell_type": "code",
      "metadata": {
        "colab": {
          "base_uri": "https://localhost:8080/",
          "height": 194
        },
        "id": "Sq3Xka11RUWo",
        "outputId": "e6c33da3-4bc9-487a-933d-ad283e05488e"
      },
      "source": [
        "india_cases.head()"
      ],
      "execution_count": 12,
      "outputs": [
        {
          "output_type": "execute_result",
          "data": {
            "text/html": [
              "<div>\n",
              "<style scoped>\n",
              "    .dataframe tbody tr th:only-of-type {\n",
              "        vertical-align: middle;\n",
              "    }\n",
              "\n",
              "    .dataframe tbody tr th {\n",
              "        vertical-align: top;\n",
              "    }\n",
              "\n",
              "    .dataframe thead th {\n",
              "        text-align: right;\n",
              "    }\n",
              "</style>\n",
              "<table border=\"1\" class=\"dataframe\">\n",
              "  <thead>\n",
              "    <tr style=\"text-align: right;\">\n",
              "      <th></th>\n",
              "      <th>Date</th>\n",
              "      <th>State/UnionTerritory</th>\n",
              "      <th>Cured</th>\n",
              "      <th>Deaths</th>\n",
              "      <th>Confirmed</th>\n",
              "      <th>Active</th>\n",
              "    </tr>\n",
              "  </thead>\n",
              "  <tbody>\n",
              "    <tr>\n",
              "      <th>15050</th>\n",
              "      <td>2021-05-19</td>\n",
              "      <td>Andaman and Nicobar Islands</td>\n",
              "      <td>6359.0</td>\n",
              "      <td>92.0</td>\n",
              "      <td>6674.0</td>\n",
              "      <td>223.0</td>\n",
              "    </tr>\n",
              "    <tr>\n",
              "      <th>15051</th>\n",
              "      <td>2021-05-19</td>\n",
              "      <td>Andhra Pradesh</td>\n",
              "      <td>1254291.0</td>\n",
              "      <td>9580.0</td>\n",
              "      <td>1475372.0</td>\n",
              "      <td>211501.0</td>\n",
              "    </tr>\n",
              "    <tr>\n",
              "      <th>15052</th>\n",
              "      <td>2021-05-19</td>\n",
              "      <td>Arunachal Pradesh</td>\n",
              "      <td>19977.0</td>\n",
              "      <td>88.0</td>\n",
              "      <td>22462.0</td>\n",
              "      <td>2397.0</td>\n",
              "    </tr>\n",
              "    <tr>\n",
              "      <th>15053</th>\n",
              "      <td>2021-05-19</td>\n",
              "      <td>Assam</td>\n",
              "      <td>290774.0</td>\n",
              "      <td>2344.0</td>\n",
              "      <td>340858.0</td>\n",
              "      <td>47740.0</td>\n",
              "    </tr>\n",
              "    <tr>\n",
              "      <th>15054</th>\n",
              "      <td>2021-05-19</td>\n",
              "      <td>Bihar</td>\n",
              "      <td>595377.0</td>\n",
              "      <td>4039.0</td>\n",
              "      <td>664115.0</td>\n",
              "      <td>64699.0</td>\n",
              "    </tr>\n",
              "  </tbody>\n",
              "</table>\n",
              "</div>"
            ],
            "text/plain": [
              "            Date         State/UnionTerritory  ...  Confirmed    Active\n",
              "15050 2021-05-19  Andaman and Nicobar Islands  ...     6674.0     223.0\n",
              "15051 2021-05-19               Andhra Pradesh  ...  1475372.0  211501.0\n",
              "15052 2021-05-19            Arunachal Pradesh  ...    22462.0    2397.0\n",
              "15053 2021-05-19                        Assam  ...   340858.0   47740.0\n",
              "15054 2021-05-19                        Bihar  ...   664115.0   64699.0\n",
              "\n",
              "[5 rows x 6 columns]"
            ]
          },
          "metadata": {
            "tags": []
          },
          "execution_count": 12
        }
      ]
    },
    {
      "cell_type": "code",
      "metadata": {
        "colab": {
          "base_uri": "https://localhost:8080/"
        },
        "id": "CVFcOov2RW2e",
        "outputId": "290868ae-8e30-4baf-c100-31a1bcf71502"
      },
      "source": [
        "Trend = Covid_Summary.groupby(['Date'])['Confirmed', 'Deaths','Cured',].sum().reset_index()"
      ],
      "execution_count": 13,
      "outputs": [
        {
          "output_type": "stream",
          "text": [
            "/usr/local/lib/python3.7/dist-packages/ipykernel_launcher.py:1: FutureWarning: Indexing with multiple keys (implicitly converted to a tuple of keys) will be deprecated, use a list instead.\n",
            "  \"\"\"Entry point for launching an IPython kernel.\n"
          ],
          "name": "stderr"
        }
      ]
    },
    {
      "cell_type": "code",
      "metadata": {
        "colab": {
          "base_uri": "https://localhost:8080/",
          "height": 194
        },
        "id": "8-waftM3Rf-5",
        "outputId": "4f77c53c-8fd5-444a-9c08-756011edc550"
      },
      "source": [
        "Trend.head()"
      ],
      "execution_count": 14,
      "outputs": [
        {
          "output_type": "execute_result",
          "data": {
            "text/html": [
              "<div>\n",
              "<style scoped>\n",
              "    .dataframe tbody tr th:only-of-type {\n",
              "        vertical-align: middle;\n",
              "    }\n",
              "\n",
              "    .dataframe tbody tr th {\n",
              "        vertical-align: top;\n",
              "    }\n",
              "\n",
              "    .dataframe thead th {\n",
              "        text-align: right;\n",
              "    }\n",
              "</style>\n",
              "<table border=\"1\" class=\"dataframe\">\n",
              "  <thead>\n",
              "    <tr style=\"text-align: right;\">\n",
              "      <th></th>\n",
              "      <th>Date</th>\n",
              "      <th>Confirmed</th>\n",
              "      <th>Deaths</th>\n",
              "      <th>Cured</th>\n",
              "    </tr>\n",
              "  </thead>\n",
              "  <tbody>\n",
              "    <tr>\n",
              "      <th>0</th>\n",
              "      <td>2020-01-30</td>\n",
              "      <td>1.0</td>\n",
              "      <td>0.0</td>\n",
              "      <td>0.0</td>\n",
              "    </tr>\n",
              "    <tr>\n",
              "      <th>1</th>\n",
              "      <td>2020-01-31</td>\n",
              "      <td>1.0</td>\n",
              "      <td>0.0</td>\n",
              "      <td>0.0</td>\n",
              "    </tr>\n",
              "    <tr>\n",
              "      <th>2</th>\n",
              "      <td>2020-02-01</td>\n",
              "      <td>2.0</td>\n",
              "      <td>0.0</td>\n",
              "      <td>0.0</td>\n",
              "    </tr>\n",
              "    <tr>\n",
              "      <th>3</th>\n",
              "      <td>2020-02-02</td>\n",
              "      <td>3.0</td>\n",
              "      <td>0.0</td>\n",
              "      <td>0.0</td>\n",
              "    </tr>\n",
              "    <tr>\n",
              "      <th>4</th>\n",
              "      <td>2020-02-03</td>\n",
              "      <td>3.0</td>\n",
              "      <td>0.0</td>\n",
              "      <td>0.0</td>\n",
              "    </tr>\n",
              "  </tbody>\n",
              "</table>\n",
              "</div>"
            ],
            "text/plain": [
              "        Date  Confirmed  Deaths  Cured\n",
              "0 2020-01-30        1.0     0.0    0.0\n",
              "1 2020-01-31        1.0     0.0    0.0\n",
              "2 2020-02-01        2.0     0.0    0.0\n",
              "3 2020-02-02        3.0     0.0    0.0\n",
              "4 2020-02-03        3.0     0.0    0.0"
            ]
          },
          "metadata": {
            "tags": []
          },
          "execution_count": 14
        }
      ]
    },
    {
      "cell_type": "code",
      "metadata": {
        "id": "wxQnekdJRhv_"
      },
      "source": [
        "vaccination = pd.read_csv(\"covid_vaccine_statewise.csv\")"
      ],
      "execution_count": 15,
      "outputs": []
    },
    {
      "cell_type": "code",
      "metadata": {
        "colab": {
          "base_uri": "https://localhost:8080/",
          "height": 248
        },
        "id": "BW0MnmyqSK-r",
        "outputId": "52210875-582d-4969-a5e7-6ba5f104df2e"
      },
      "source": [
        "vaccination.head()"
      ],
      "execution_count": 16,
      "outputs": [
        {
          "output_type": "execute_result",
          "data": {
            "text/html": [
              "<div>\n",
              "<style scoped>\n",
              "    .dataframe tbody tr th:only-of-type {\n",
              "        vertical-align: middle;\n",
              "    }\n",
              "\n",
              "    .dataframe tbody tr th {\n",
              "        vertical-align: top;\n",
              "    }\n",
              "\n",
              "    .dataframe thead th {\n",
              "        text-align: right;\n",
              "    }\n",
              "</style>\n",
              "<table border=\"1\" class=\"dataframe\">\n",
              "  <thead>\n",
              "    <tr style=\"text-align: right;\">\n",
              "      <th></th>\n",
              "      <th>Updated On</th>\n",
              "      <th>State</th>\n",
              "      <th>Total Individuals Vaccinated</th>\n",
              "      <th>Total Sessions Conducted</th>\n",
              "      <th>Total Sites</th>\n",
              "      <th>First Dose Administered</th>\n",
              "      <th>Second Dose Administered</th>\n",
              "      <th>Male(Individuals Vaccinated)</th>\n",
              "      <th>Female(Individuals Vaccinated)</th>\n",
              "      <th>Transgender(Individuals Vaccinated)</th>\n",
              "      <th>Total Covaxin Administered</th>\n",
              "      <th>Total CoviShield Administered</th>\n",
              "      <th>AEFI</th>\n",
              "      <th>18-30 years (Age)</th>\n",
              "      <th>30-45 years (Age)</th>\n",
              "      <th>45-60 years (Age)</th>\n",
              "      <th>60+ years (Age)</th>\n",
              "      <th>Total Doses Administered</th>\n",
              "    </tr>\n",
              "  </thead>\n",
              "  <tbody>\n",
              "    <tr>\n",
              "      <th>0</th>\n",
              "      <td>16/01/2021</td>\n",
              "      <td>India</td>\n",
              "      <td>48276.0</td>\n",
              "      <td>3455.0</td>\n",
              "      <td>2957.0</td>\n",
              "      <td>48276.0</td>\n",
              "      <td>0.0</td>\n",
              "      <td>23757.0</td>\n",
              "      <td>24517.0</td>\n",
              "      <td>2.0</td>\n",
              "      <td>579.0</td>\n",
              "      <td>47697.0</td>\n",
              "      <td>NaN</td>\n",
              "      <td>NaN</td>\n",
              "      <td>NaN</td>\n",
              "      <td>NaN</td>\n",
              "      <td>NaN</td>\n",
              "      <td>48276</td>\n",
              "    </tr>\n",
              "    <tr>\n",
              "      <th>1</th>\n",
              "      <td>17/01/2021</td>\n",
              "      <td>India</td>\n",
              "      <td>58604.0</td>\n",
              "      <td>8532.0</td>\n",
              "      <td>4954.0</td>\n",
              "      <td>58604.0</td>\n",
              "      <td>0.0</td>\n",
              "      <td>27348.0</td>\n",
              "      <td>31252.0</td>\n",
              "      <td>4.0</td>\n",
              "      <td>635.0</td>\n",
              "      <td>57969.0</td>\n",
              "      <td>NaN</td>\n",
              "      <td>NaN</td>\n",
              "      <td>NaN</td>\n",
              "      <td>NaN</td>\n",
              "      <td>NaN</td>\n",
              "      <td>58604</td>\n",
              "    </tr>\n",
              "    <tr>\n",
              "      <th>2</th>\n",
              "      <td>18/01/2021</td>\n",
              "      <td>India</td>\n",
              "      <td>99449.0</td>\n",
              "      <td>13611.0</td>\n",
              "      <td>6583.0</td>\n",
              "      <td>99449.0</td>\n",
              "      <td>0.0</td>\n",
              "      <td>41361.0</td>\n",
              "      <td>58083.0</td>\n",
              "      <td>5.0</td>\n",
              "      <td>1299.0</td>\n",
              "      <td>98150.0</td>\n",
              "      <td>NaN</td>\n",
              "      <td>NaN</td>\n",
              "      <td>NaN</td>\n",
              "      <td>NaN</td>\n",
              "      <td>NaN</td>\n",
              "      <td>99449</td>\n",
              "    </tr>\n",
              "    <tr>\n",
              "      <th>3</th>\n",
              "      <td>19/01/2021</td>\n",
              "      <td>India</td>\n",
              "      <td>195525.0</td>\n",
              "      <td>17855.0</td>\n",
              "      <td>7951.0</td>\n",
              "      <td>195525.0</td>\n",
              "      <td>0.0</td>\n",
              "      <td>81901.0</td>\n",
              "      <td>113613.0</td>\n",
              "      <td>11.0</td>\n",
              "      <td>3017.0</td>\n",
              "      <td>192508.0</td>\n",
              "      <td>NaN</td>\n",
              "      <td>NaN</td>\n",
              "      <td>NaN</td>\n",
              "      <td>NaN</td>\n",
              "      <td>NaN</td>\n",
              "      <td>195525</td>\n",
              "    </tr>\n",
              "    <tr>\n",
              "      <th>4</th>\n",
              "      <td>20/01/2021</td>\n",
              "      <td>India</td>\n",
              "      <td>251280.0</td>\n",
              "      <td>25472.0</td>\n",
              "      <td>10504.0</td>\n",
              "      <td>251280.0</td>\n",
              "      <td>0.0</td>\n",
              "      <td>98111.0</td>\n",
              "      <td>153145.0</td>\n",
              "      <td>24.0</td>\n",
              "      <td>3946.0</td>\n",
              "      <td>247334.0</td>\n",
              "      <td>NaN</td>\n",
              "      <td>NaN</td>\n",
              "      <td>NaN</td>\n",
              "      <td>NaN</td>\n",
              "      <td>NaN</td>\n",
              "      <td>251280</td>\n",
              "    </tr>\n",
              "  </tbody>\n",
              "</table>\n",
              "</div>"
            ],
            "text/plain": [
              "   Updated On  State  ...  60+ years (Age)  Total Doses Administered\n",
              "0  16/01/2021  India  ...              NaN                     48276\n",
              "1  17/01/2021  India  ...              NaN                     58604\n",
              "2  18/01/2021  India  ...              NaN                     99449\n",
              "3  19/01/2021  India  ...              NaN                    195525\n",
              "4  20/01/2021  India  ...              NaN                    251280\n",
              "\n",
              "[5 rows x 18 columns]"
            ]
          },
          "metadata": {
            "tags": []
          },
          "execution_count": 16
        }
      ]
    },
    {
      "cell_type": "code",
      "metadata": {
        "id": "zQZUXbXGSQZe"
      },
      "source": [
        "vaccination['Total Vaccinatons'] = vaccination['First Dose Administered']+vaccination['Second Dose Administered']\n",
        "\n",
        "#Renaming columns\n",
        "vaccination.rename(columns = {'Updated On':'Date'}, inplace = True)"
      ],
      "execution_count": 17,
      "outputs": []
    },
    {
      "cell_type": "code",
      "metadata": {
        "colab": {
          "base_uri": "https://localhost:8080/",
          "height": 248
        },
        "id": "gaOjJFwrSgg2",
        "outputId": "c198d8cd-449d-461e-b9e9-6a2b4e4443b4"
      },
      "source": [
        "vaccination.head()"
      ],
      "execution_count": 18,
      "outputs": [
        {
          "output_type": "execute_result",
          "data": {
            "text/html": [
              "<div>\n",
              "<style scoped>\n",
              "    .dataframe tbody tr th:only-of-type {\n",
              "        vertical-align: middle;\n",
              "    }\n",
              "\n",
              "    .dataframe tbody tr th {\n",
              "        vertical-align: top;\n",
              "    }\n",
              "\n",
              "    .dataframe thead th {\n",
              "        text-align: right;\n",
              "    }\n",
              "</style>\n",
              "<table border=\"1\" class=\"dataframe\">\n",
              "  <thead>\n",
              "    <tr style=\"text-align: right;\">\n",
              "      <th></th>\n",
              "      <th>Date</th>\n",
              "      <th>State</th>\n",
              "      <th>Total Individuals Vaccinated</th>\n",
              "      <th>Total Sessions Conducted</th>\n",
              "      <th>Total Sites</th>\n",
              "      <th>First Dose Administered</th>\n",
              "      <th>Second Dose Administered</th>\n",
              "      <th>Male(Individuals Vaccinated)</th>\n",
              "      <th>Female(Individuals Vaccinated)</th>\n",
              "      <th>Transgender(Individuals Vaccinated)</th>\n",
              "      <th>Total Covaxin Administered</th>\n",
              "      <th>Total CoviShield Administered</th>\n",
              "      <th>AEFI</th>\n",
              "      <th>18-30 years (Age)</th>\n",
              "      <th>30-45 years (Age)</th>\n",
              "      <th>45-60 years (Age)</th>\n",
              "      <th>60+ years (Age)</th>\n",
              "      <th>Total Doses Administered</th>\n",
              "      <th>Total Vaccinatons</th>\n",
              "    </tr>\n",
              "  </thead>\n",
              "  <tbody>\n",
              "    <tr>\n",
              "      <th>0</th>\n",
              "      <td>16/01/2021</td>\n",
              "      <td>India</td>\n",
              "      <td>48276.0</td>\n",
              "      <td>3455.0</td>\n",
              "      <td>2957.0</td>\n",
              "      <td>48276.0</td>\n",
              "      <td>0.0</td>\n",
              "      <td>23757.0</td>\n",
              "      <td>24517.0</td>\n",
              "      <td>2.0</td>\n",
              "      <td>579.0</td>\n",
              "      <td>47697.0</td>\n",
              "      <td>NaN</td>\n",
              "      <td>NaN</td>\n",
              "      <td>NaN</td>\n",
              "      <td>NaN</td>\n",
              "      <td>NaN</td>\n",
              "      <td>48276</td>\n",
              "      <td>48276.0</td>\n",
              "    </tr>\n",
              "    <tr>\n",
              "      <th>1</th>\n",
              "      <td>17/01/2021</td>\n",
              "      <td>India</td>\n",
              "      <td>58604.0</td>\n",
              "      <td>8532.0</td>\n",
              "      <td>4954.0</td>\n",
              "      <td>58604.0</td>\n",
              "      <td>0.0</td>\n",
              "      <td>27348.0</td>\n",
              "      <td>31252.0</td>\n",
              "      <td>4.0</td>\n",
              "      <td>635.0</td>\n",
              "      <td>57969.0</td>\n",
              "      <td>NaN</td>\n",
              "      <td>NaN</td>\n",
              "      <td>NaN</td>\n",
              "      <td>NaN</td>\n",
              "      <td>NaN</td>\n",
              "      <td>58604</td>\n",
              "      <td>58604.0</td>\n",
              "    </tr>\n",
              "    <tr>\n",
              "      <th>2</th>\n",
              "      <td>18/01/2021</td>\n",
              "      <td>India</td>\n",
              "      <td>99449.0</td>\n",
              "      <td>13611.0</td>\n",
              "      <td>6583.0</td>\n",
              "      <td>99449.0</td>\n",
              "      <td>0.0</td>\n",
              "      <td>41361.0</td>\n",
              "      <td>58083.0</td>\n",
              "      <td>5.0</td>\n",
              "      <td>1299.0</td>\n",
              "      <td>98150.0</td>\n",
              "      <td>NaN</td>\n",
              "      <td>NaN</td>\n",
              "      <td>NaN</td>\n",
              "      <td>NaN</td>\n",
              "      <td>NaN</td>\n",
              "      <td>99449</td>\n",
              "      <td>99449.0</td>\n",
              "    </tr>\n",
              "    <tr>\n",
              "      <th>3</th>\n",
              "      <td>19/01/2021</td>\n",
              "      <td>India</td>\n",
              "      <td>195525.0</td>\n",
              "      <td>17855.0</td>\n",
              "      <td>7951.0</td>\n",
              "      <td>195525.0</td>\n",
              "      <td>0.0</td>\n",
              "      <td>81901.0</td>\n",
              "      <td>113613.0</td>\n",
              "      <td>11.0</td>\n",
              "      <td>3017.0</td>\n",
              "      <td>192508.0</td>\n",
              "      <td>NaN</td>\n",
              "      <td>NaN</td>\n",
              "      <td>NaN</td>\n",
              "      <td>NaN</td>\n",
              "      <td>NaN</td>\n",
              "      <td>195525</td>\n",
              "      <td>195525.0</td>\n",
              "    </tr>\n",
              "    <tr>\n",
              "      <th>4</th>\n",
              "      <td>20/01/2021</td>\n",
              "      <td>India</td>\n",
              "      <td>251280.0</td>\n",
              "      <td>25472.0</td>\n",
              "      <td>10504.0</td>\n",
              "      <td>251280.0</td>\n",
              "      <td>0.0</td>\n",
              "      <td>98111.0</td>\n",
              "      <td>153145.0</td>\n",
              "      <td>24.0</td>\n",
              "      <td>3946.0</td>\n",
              "      <td>247334.0</td>\n",
              "      <td>NaN</td>\n",
              "      <td>NaN</td>\n",
              "      <td>NaN</td>\n",
              "      <td>NaN</td>\n",
              "      <td>NaN</td>\n",
              "      <td>251280</td>\n",
              "      <td>251280.0</td>\n",
              "    </tr>\n",
              "  </tbody>\n",
              "</table>\n",
              "</div>"
            ],
            "text/plain": [
              "         Date  State  ...  Total Doses Administered  Total Vaccinatons\n",
              "0  16/01/2021  India  ...                     48276            48276.0\n",
              "1  17/01/2021  India  ...                     58604            58604.0\n",
              "2  18/01/2021  India  ...                     99449            99449.0\n",
              "3  19/01/2021  India  ...                    195525           195525.0\n",
              "4  20/01/2021  India  ...                    251280           251280.0\n",
              "\n",
              "[5 rows x 19 columns]"
            ]
          },
          "metadata": {
            "tags": []
          },
          "execution_count": 18
        }
      ]
    },
    {
      "cell_type": "code",
      "metadata": {
        "id": "ewP8qzazSj6T"
      },
      "source": [
        "vaccination=vaccination.fillna(vaccination.median())"
      ],
      "execution_count": 19,
      "outputs": []
    },
    {
      "cell_type": "code",
      "metadata": {
        "colab": {
          "base_uri": "https://localhost:8080/",
          "height": 248
        },
        "id": "VdN0TU7VY_Ue",
        "outputId": "0c657f3a-ec4d-47fa-9c88-cb19919bb70f"
      },
      "source": [
        "vaccination.head()"
      ],
      "execution_count": 20,
      "outputs": [
        {
          "output_type": "execute_result",
          "data": {
            "text/html": [
              "<div>\n",
              "<style scoped>\n",
              "    .dataframe tbody tr th:only-of-type {\n",
              "        vertical-align: middle;\n",
              "    }\n",
              "\n",
              "    .dataframe tbody tr th {\n",
              "        vertical-align: top;\n",
              "    }\n",
              "\n",
              "    .dataframe thead th {\n",
              "        text-align: right;\n",
              "    }\n",
              "</style>\n",
              "<table border=\"1\" class=\"dataframe\">\n",
              "  <thead>\n",
              "    <tr style=\"text-align: right;\">\n",
              "      <th></th>\n",
              "      <th>Date</th>\n",
              "      <th>State</th>\n",
              "      <th>Total Individuals Vaccinated</th>\n",
              "      <th>Total Sessions Conducted</th>\n",
              "      <th>Total Sites</th>\n",
              "      <th>First Dose Administered</th>\n",
              "      <th>Second Dose Administered</th>\n",
              "      <th>Male(Individuals Vaccinated)</th>\n",
              "      <th>Female(Individuals Vaccinated)</th>\n",
              "      <th>Transgender(Individuals Vaccinated)</th>\n",
              "      <th>Total Covaxin Administered</th>\n",
              "      <th>Total CoviShield Administered</th>\n",
              "      <th>AEFI</th>\n",
              "      <th>18-30 years (Age)</th>\n",
              "      <th>30-45 years (Age)</th>\n",
              "      <th>45-60 years (Age)</th>\n",
              "      <th>60+ years (Age)</th>\n",
              "      <th>Total Doses Administered</th>\n",
              "      <th>Total Vaccinatons</th>\n",
              "    </tr>\n",
              "  </thead>\n",
              "  <tbody>\n",
              "    <tr>\n",
              "      <th>0</th>\n",
              "      <td>16/01/2021</td>\n",
              "      <td>India</td>\n",
              "      <td>48276.0</td>\n",
              "      <td>3455.0</td>\n",
              "      <td>2957.0</td>\n",
              "      <td>48276.0</td>\n",
              "      <td>0.0</td>\n",
              "      <td>23757.0</td>\n",
              "      <td>24517.0</td>\n",
              "      <td>2.0</td>\n",
              "      <td>579.0</td>\n",
              "      <td>47697.0</td>\n",
              "      <td>263.0</td>\n",
              "      <td>36091.5</td>\n",
              "      <td>191850.5</td>\n",
              "      <td>553008.5</td>\n",
              "      <td>631321.0</td>\n",
              "      <td>48276</td>\n",
              "      <td>48276.0</td>\n",
              "    </tr>\n",
              "    <tr>\n",
              "      <th>1</th>\n",
              "      <td>17/01/2021</td>\n",
              "      <td>India</td>\n",
              "      <td>58604.0</td>\n",
              "      <td>8532.0</td>\n",
              "      <td>4954.0</td>\n",
              "      <td>58604.0</td>\n",
              "      <td>0.0</td>\n",
              "      <td>27348.0</td>\n",
              "      <td>31252.0</td>\n",
              "      <td>4.0</td>\n",
              "      <td>635.0</td>\n",
              "      <td>57969.0</td>\n",
              "      <td>263.0</td>\n",
              "      <td>36091.5</td>\n",
              "      <td>191850.5</td>\n",
              "      <td>553008.5</td>\n",
              "      <td>631321.0</td>\n",
              "      <td>58604</td>\n",
              "      <td>58604.0</td>\n",
              "    </tr>\n",
              "    <tr>\n",
              "      <th>2</th>\n",
              "      <td>18/01/2021</td>\n",
              "      <td>India</td>\n",
              "      <td>99449.0</td>\n",
              "      <td>13611.0</td>\n",
              "      <td>6583.0</td>\n",
              "      <td>99449.0</td>\n",
              "      <td>0.0</td>\n",
              "      <td>41361.0</td>\n",
              "      <td>58083.0</td>\n",
              "      <td>5.0</td>\n",
              "      <td>1299.0</td>\n",
              "      <td>98150.0</td>\n",
              "      <td>263.0</td>\n",
              "      <td>36091.5</td>\n",
              "      <td>191850.5</td>\n",
              "      <td>553008.5</td>\n",
              "      <td>631321.0</td>\n",
              "      <td>99449</td>\n",
              "      <td>99449.0</td>\n",
              "    </tr>\n",
              "    <tr>\n",
              "      <th>3</th>\n",
              "      <td>19/01/2021</td>\n",
              "      <td>India</td>\n",
              "      <td>195525.0</td>\n",
              "      <td>17855.0</td>\n",
              "      <td>7951.0</td>\n",
              "      <td>195525.0</td>\n",
              "      <td>0.0</td>\n",
              "      <td>81901.0</td>\n",
              "      <td>113613.0</td>\n",
              "      <td>11.0</td>\n",
              "      <td>3017.0</td>\n",
              "      <td>192508.0</td>\n",
              "      <td>263.0</td>\n",
              "      <td>36091.5</td>\n",
              "      <td>191850.5</td>\n",
              "      <td>553008.5</td>\n",
              "      <td>631321.0</td>\n",
              "      <td>195525</td>\n",
              "      <td>195525.0</td>\n",
              "    </tr>\n",
              "    <tr>\n",
              "      <th>4</th>\n",
              "      <td>20/01/2021</td>\n",
              "      <td>India</td>\n",
              "      <td>251280.0</td>\n",
              "      <td>25472.0</td>\n",
              "      <td>10504.0</td>\n",
              "      <td>251280.0</td>\n",
              "      <td>0.0</td>\n",
              "      <td>98111.0</td>\n",
              "      <td>153145.0</td>\n",
              "      <td>24.0</td>\n",
              "      <td>3946.0</td>\n",
              "      <td>247334.0</td>\n",
              "      <td>263.0</td>\n",
              "      <td>36091.5</td>\n",
              "      <td>191850.5</td>\n",
              "      <td>553008.5</td>\n",
              "      <td>631321.0</td>\n",
              "      <td>251280</td>\n",
              "      <td>251280.0</td>\n",
              "    </tr>\n",
              "  </tbody>\n",
              "</table>\n",
              "</div>"
            ],
            "text/plain": [
              "         Date  State  ...  Total Doses Administered  Total Vaccinatons\n",
              "0  16/01/2021  India  ...                     48276            48276.0\n",
              "1  17/01/2021  India  ...                     58604            58604.0\n",
              "2  18/01/2021  India  ...                     99449            99449.0\n",
              "3  19/01/2021  India  ...                    195525           195525.0\n",
              "4  20/01/2021  India  ...                    251280           251280.0\n",
              "\n",
              "[5 rows x 19 columns]"
            ]
          },
          "metadata": {
            "tags": []
          },
          "execution_count": 20
        }
      ]
    },
    {
      "cell_type": "code",
      "metadata": {
        "colab": {
          "base_uri": "https://localhost:8080/"
        },
        "id": "EuRWMUdla_o5",
        "outputId": "e468cd63-3f68-40bb-beee-d2a41ca12c1d"
      },
      "source": [
        "vaccination.info()"
      ],
      "execution_count": 21,
      "outputs": [
        {
          "output_type": "stream",
          "text": [
            "<class 'pandas.core.frame.DataFrame'>\n",
            "RangeIndex: 4589 entries, 0 to 4588\n",
            "Data columns (total 19 columns):\n",
            " #   Column                               Non-Null Count  Dtype  \n",
            "---  ------                               --------------  -----  \n",
            " 0   Date                                 4589 non-null   object \n",
            " 1   State                                4589 non-null   object \n",
            " 2   Total Individuals Vaccinated         4589 non-null   float64\n",
            " 3   Total Sessions Conducted             4589 non-null   float64\n",
            " 4   Total Sites                          4589 non-null   float64\n",
            " 5   First Dose Administered              4589 non-null   float64\n",
            " 6   Second Dose Administered             4589 non-null   float64\n",
            " 7   Male(Individuals Vaccinated)         4589 non-null   float64\n",
            " 8   Female(Individuals Vaccinated)       4589 non-null   float64\n",
            " 9   Transgender(Individuals Vaccinated)  4589 non-null   float64\n",
            " 10  Total Covaxin Administered           4589 non-null   float64\n",
            " 11  Total CoviShield Administered        4589 non-null   float64\n",
            " 12  AEFI                                 4589 non-null   float64\n",
            " 13  18-30 years (Age)                    4589 non-null   float64\n",
            " 14  30-45 years (Age)                    4589 non-null   float64\n",
            " 15  45-60 years (Age)                    4589 non-null   float64\n",
            " 16  60+ years (Age)                      4589 non-null   float64\n",
            " 17  Total Doses Administered             4589 non-null   int64  \n",
            " 18  Total Vaccinatons                    4589 non-null   float64\n",
            "dtypes: float64(16), int64(1), object(2)\n",
            "memory usage: 681.3+ KB\n"
          ],
          "name": "stdout"
        }
      ]
    },
    {
      "cell_type": "code",
      "metadata": {
        "id": "UaPbCOFpZIUy"
      },
      "source": [
        "vaccination = vaccination.drop(['Total Sessions Conducted'], axis=1)"
      ],
      "execution_count": 22,
      "outputs": []
    },
    {
      "cell_type": "code",
      "metadata": {
        "id": "afnO1-iX_17-"
      },
      "source": [
        "india_cases = india_cases.rename(columns={'State/UnionTerritory':'State'})"
      ],
      "execution_count": 23,
      "outputs": []
    },
    {
      "cell_type": "code",
      "metadata": {
        "id": "EAW8Y9M-a6I7"
      },
      "source": [
        "india_cases = india_cases.append(vaccination, sort=False)"
      ],
      "execution_count": 24,
      "outputs": []
    },
    {
      "cell_type": "code",
      "metadata": {
        "colab": {
          "base_uri": "https://localhost:8080/",
          "height": 433
        },
        "id": "5Di-tpnj9Xc-",
        "outputId": "2410721c-50f0-4444-cd42-79e201d7bea1"
      },
      "source": [
        "india_cases.head()"
      ],
      "execution_count": 25,
      "outputs": [
        {
          "output_type": "execute_result",
          "data": {
            "text/html": [
              "<div>\n",
              "<style scoped>\n",
              "    .dataframe tbody tr th:only-of-type {\n",
              "        vertical-align: middle;\n",
              "    }\n",
              "\n",
              "    .dataframe tbody tr th {\n",
              "        vertical-align: top;\n",
              "    }\n",
              "\n",
              "    .dataframe thead th {\n",
              "        text-align: right;\n",
              "    }\n",
              "</style>\n",
              "<table border=\"1\" class=\"dataframe\">\n",
              "  <thead>\n",
              "    <tr style=\"text-align: right;\">\n",
              "      <th></th>\n",
              "      <th>Date</th>\n",
              "      <th>State</th>\n",
              "      <th>Cured</th>\n",
              "      <th>Deaths</th>\n",
              "      <th>Confirmed</th>\n",
              "      <th>Active</th>\n",
              "      <th>Total Individuals Vaccinated</th>\n",
              "      <th>Total Sites</th>\n",
              "      <th>First Dose Administered</th>\n",
              "      <th>Second Dose Administered</th>\n",
              "      <th>Male(Individuals Vaccinated)</th>\n",
              "      <th>Female(Individuals Vaccinated)</th>\n",
              "      <th>Transgender(Individuals Vaccinated)</th>\n",
              "      <th>Total Covaxin Administered</th>\n",
              "      <th>Total CoviShield Administered</th>\n",
              "      <th>AEFI</th>\n",
              "      <th>18-30 years (Age)</th>\n",
              "      <th>30-45 years (Age)</th>\n",
              "      <th>45-60 years (Age)</th>\n",
              "      <th>60+ years (Age)</th>\n",
              "      <th>Total Doses Administered</th>\n",
              "      <th>Total Vaccinatons</th>\n",
              "    </tr>\n",
              "  </thead>\n",
              "  <tbody>\n",
              "    <tr>\n",
              "      <th>15050</th>\n",
              "      <td>2021-05-19 00:00:00</td>\n",
              "      <td>Andaman and Nicobar Islands</td>\n",
              "      <td>6359.0</td>\n",
              "      <td>92.0</td>\n",
              "      <td>6674.0</td>\n",
              "      <td>223.0</td>\n",
              "      <td>NaN</td>\n",
              "      <td>NaN</td>\n",
              "      <td>NaN</td>\n",
              "      <td>NaN</td>\n",
              "      <td>NaN</td>\n",
              "      <td>NaN</td>\n",
              "      <td>NaN</td>\n",
              "      <td>NaN</td>\n",
              "      <td>NaN</td>\n",
              "      <td>NaN</td>\n",
              "      <td>NaN</td>\n",
              "      <td>NaN</td>\n",
              "      <td>NaN</td>\n",
              "      <td>NaN</td>\n",
              "      <td>NaN</td>\n",
              "      <td>NaN</td>\n",
              "    </tr>\n",
              "    <tr>\n",
              "      <th>15051</th>\n",
              "      <td>2021-05-19 00:00:00</td>\n",
              "      <td>Andhra Pradesh</td>\n",
              "      <td>1254291.0</td>\n",
              "      <td>9580.0</td>\n",
              "      <td>1475372.0</td>\n",
              "      <td>211501.0</td>\n",
              "      <td>NaN</td>\n",
              "      <td>NaN</td>\n",
              "      <td>NaN</td>\n",
              "      <td>NaN</td>\n",
              "      <td>NaN</td>\n",
              "      <td>NaN</td>\n",
              "      <td>NaN</td>\n",
              "      <td>NaN</td>\n",
              "      <td>NaN</td>\n",
              "      <td>NaN</td>\n",
              "      <td>NaN</td>\n",
              "      <td>NaN</td>\n",
              "      <td>NaN</td>\n",
              "      <td>NaN</td>\n",
              "      <td>NaN</td>\n",
              "      <td>NaN</td>\n",
              "    </tr>\n",
              "    <tr>\n",
              "      <th>15052</th>\n",
              "      <td>2021-05-19 00:00:00</td>\n",
              "      <td>Arunachal Pradesh</td>\n",
              "      <td>19977.0</td>\n",
              "      <td>88.0</td>\n",
              "      <td>22462.0</td>\n",
              "      <td>2397.0</td>\n",
              "      <td>NaN</td>\n",
              "      <td>NaN</td>\n",
              "      <td>NaN</td>\n",
              "      <td>NaN</td>\n",
              "      <td>NaN</td>\n",
              "      <td>NaN</td>\n",
              "      <td>NaN</td>\n",
              "      <td>NaN</td>\n",
              "      <td>NaN</td>\n",
              "      <td>NaN</td>\n",
              "      <td>NaN</td>\n",
              "      <td>NaN</td>\n",
              "      <td>NaN</td>\n",
              "      <td>NaN</td>\n",
              "      <td>NaN</td>\n",
              "      <td>NaN</td>\n",
              "    </tr>\n",
              "    <tr>\n",
              "      <th>15053</th>\n",
              "      <td>2021-05-19 00:00:00</td>\n",
              "      <td>Assam</td>\n",
              "      <td>290774.0</td>\n",
              "      <td>2344.0</td>\n",
              "      <td>340858.0</td>\n",
              "      <td>47740.0</td>\n",
              "      <td>NaN</td>\n",
              "      <td>NaN</td>\n",
              "      <td>NaN</td>\n",
              "      <td>NaN</td>\n",
              "      <td>NaN</td>\n",
              "      <td>NaN</td>\n",
              "      <td>NaN</td>\n",
              "      <td>NaN</td>\n",
              "      <td>NaN</td>\n",
              "      <td>NaN</td>\n",
              "      <td>NaN</td>\n",
              "      <td>NaN</td>\n",
              "      <td>NaN</td>\n",
              "      <td>NaN</td>\n",
              "      <td>NaN</td>\n",
              "      <td>NaN</td>\n",
              "    </tr>\n",
              "    <tr>\n",
              "      <th>15054</th>\n",
              "      <td>2021-05-19 00:00:00</td>\n",
              "      <td>Bihar</td>\n",
              "      <td>595377.0</td>\n",
              "      <td>4039.0</td>\n",
              "      <td>664115.0</td>\n",
              "      <td>64699.0</td>\n",
              "      <td>NaN</td>\n",
              "      <td>NaN</td>\n",
              "      <td>NaN</td>\n",
              "      <td>NaN</td>\n",
              "      <td>NaN</td>\n",
              "      <td>NaN</td>\n",
              "      <td>NaN</td>\n",
              "      <td>NaN</td>\n",
              "      <td>NaN</td>\n",
              "      <td>NaN</td>\n",
              "      <td>NaN</td>\n",
              "      <td>NaN</td>\n",
              "      <td>NaN</td>\n",
              "      <td>NaN</td>\n",
              "      <td>NaN</td>\n",
              "      <td>NaN</td>\n",
              "    </tr>\n",
              "  </tbody>\n",
              "</table>\n",
              "</div>"
            ],
            "text/plain": [
              "                      Date  ... Total Vaccinatons\n",
              "15050  2021-05-19 00:00:00  ...               NaN\n",
              "15051  2021-05-19 00:00:00  ...               NaN\n",
              "15052  2021-05-19 00:00:00  ...               NaN\n",
              "15053  2021-05-19 00:00:00  ...               NaN\n",
              "15054  2021-05-19 00:00:00  ...               NaN\n",
              "\n",
              "[5 rows x 22 columns]"
            ]
          },
          "metadata": {
            "tags": []
          },
          "execution_count": 25
        }
      ]
    },
    {
      "cell_type": "code",
      "metadata": {
        "id": "U7kYxyPL9fwQ"
      },
      "source": [
        "Covid_Testing = Covid_Testing.rename(columns={'State/Union Territory':'State'})"
      ],
      "execution_count": 26,
      "outputs": []
    },
    {
      "cell_type": "code",
      "metadata": {
        "id": "FktgCZQx-YDw"
      },
      "source": [
        "india_cases = india_cases.append(Covid_Testing,sort=False)"
      ],
      "execution_count": 27,
      "outputs": []
    },
    {
      "cell_type": "code",
      "metadata": {
        "colab": {
          "base_uri": "https://localhost:8080/",
          "height": 433
        },
        "id": "W4lVu1D1_Llf",
        "outputId": "3027b143-7cc3-42ab-888a-5cc933d73202"
      },
      "source": [
        "india_cases.head()"
      ],
      "execution_count": 28,
      "outputs": [
        {
          "output_type": "execute_result",
          "data": {
            "text/html": [
              "<div>\n",
              "<style scoped>\n",
              "    .dataframe tbody tr th:only-of-type {\n",
              "        vertical-align: middle;\n",
              "    }\n",
              "\n",
              "    .dataframe tbody tr th {\n",
              "        vertical-align: top;\n",
              "    }\n",
              "\n",
              "    .dataframe thead th {\n",
              "        text-align: right;\n",
              "    }\n",
              "</style>\n",
              "<table border=\"1\" class=\"dataframe\">\n",
              "  <thead>\n",
              "    <tr style=\"text-align: right;\">\n",
              "      <th></th>\n",
              "      <th>Date</th>\n",
              "      <th>State</th>\n",
              "      <th>Cured</th>\n",
              "      <th>Deaths</th>\n",
              "      <th>Confirmed</th>\n",
              "      <th>Active</th>\n",
              "      <th>Total Individuals Vaccinated</th>\n",
              "      <th>Total Sites</th>\n",
              "      <th>First Dose Administered</th>\n",
              "      <th>Second Dose Administered</th>\n",
              "      <th>Male(Individuals Vaccinated)</th>\n",
              "      <th>Female(Individuals Vaccinated)</th>\n",
              "      <th>Transgender(Individuals Vaccinated)</th>\n",
              "      <th>Total Covaxin Administered</th>\n",
              "      <th>Total CoviShield Administered</th>\n",
              "      <th>AEFI</th>\n",
              "      <th>18-30 years (Age)</th>\n",
              "      <th>30-45 years (Age)</th>\n",
              "      <th>45-60 years (Age)</th>\n",
              "      <th>60+ years (Age)</th>\n",
              "      <th>Total Doses Administered</th>\n",
              "      <th>Total Vaccinatons</th>\n",
              "      <th>TotalSamples</th>\n",
              "      <th>Negative</th>\n",
              "      <th>Positive</th>\n",
              "    </tr>\n",
              "  </thead>\n",
              "  <tbody>\n",
              "    <tr>\n",
              "      <th>15050</th>\n",
              "      <td>2021-05-19 00:00:00</td>\n",
              "      <td>Andaman and Nicobar Islands</td>\n",
              "      <td>6359.0</td>\n",
              "      <td>92.0</td>\n",
              "      <td>6674.0</td>\n",
              "      <td>223.0</td>\n",
              "      <td>NaN</td>\n",
              "      <td>NaN</td>\n",
              "      <td>NaN</td>\n",
              "      <td>NaN</td>\n",
              "      <td>NaN</td>\n",
              "      <td>NaN</td>\n",
              "      <td>NaN</td>\n",
              "      <td>NaN</td>\n",
              "      <td>NaN</td>\n",
              "      <td>NaN</td>\n",
              "      <td>NaN</td>\n",
              "      <td>NaN</td>\n",
              "      <td>NaN</td>\n",
              "      <td>NaN</td>\n",
              "      <td>NaN</td>\n",
              "      <td>NaN</td>\n",
              "      <td>NaN</td>\n",
              "      <td>NaN</td>\n",
              "      <td>NaN</td>\n",
              "    </tr>\n",
              "    <tr>\n",
              "      <th>15051</th>\n",
              "      <td>2021-05-19 00:00:00</td>\n",
              "      <td>Andhra Pradesh</td>\n",
              "      <td>1254291.0</td>\n",
              "      <td>9580.0</td>\n",
              "      <td>1475372.0</td>\n",
              "      <td>211501.0</td>\n",
              "      <td>NaN</td>\n",
              "      <td>NaN</td>\n",
              "      <td>NaN</td>\n",
              "      <td>NaN</td>\n",
              "      <td>NaN</td>\n",
              "      <td>NaN</td>\n",
              "      <td>NaN</td>\n",
              "      <td>NaN</td>\n",
              "      <td>NaN</td>\n",
              "      <td>NaN</td>\n",
              "      <td>NaN</td>\n",
              "      <td>NaN</td>\n",
              "      <td>NaN</td>\n",
              "      <td>NaN</td>\n",
              "      <td>NaN</td>\n",
              "      <td>NaN</td>\n",
              "      <td>NaN</td>\n",
              "      <td>NaN</td>\n",
              "      <td>NaN</td>\n",
              "    </tr>\n",
              "    <tr>\n",
              "      <th>15052</th>\n",
              "      <td>2021-05-19 00:00:00</td>\n",
              "      <td>Arunachal Pradesh</td>\n",
              "      <td>19977.0</td>\n",
              "      <td>88.0</td>\n",
              "      <td>22462.0</td>\n",
              "      <td>2397.0</td>\n",
              "      <td>NaN</td>\n",
              "      <td>NaN</td>\n",
              "      <td>NaN</td>\n",
              "      <td>NaN</td>\n",
              "      <td>NaN</td>\n",
              "      <td>NaN</td>\n",
              "      <td>NaN</td>\n",
              "      <td>NaN</td>\n",
              "      <td>NaN</td>\n",
              "      <td>NaN</td>\n",
              "      <td>NaN</td>\n",
              "      <td>NaN</td>\n",
              "      <td>NaN</td>\n",
              "      <td>NaN</td>\n",
              "      <td>NaN</td>\n",
              "      <td>NaN</td>\n",
              "      <td>NaN</td>\n",
              "      <td>NaN</td>\n",
              "      <td>NaN</td>\n",
              "    </tr>\n",
              "    <tr>\n",
              "      <th>15053</th>\n",
              "      <td>2021-05-19 00:00:00</td>\n",
              "      <td>Assam</td>\n",
              "      <td>290774.0</td>\n",
              "      <td>2344.0</td>\n",
              "      <td>340858.0</td>\n",
              "      <td>47740.0</td>\n",
              "      <td>NaN</td>\n",
              "      <td>NaN</td>\n",
              "      <td>NaN</td>\n",
              "      <td>NaN</td>\n",
              "      <td>NaN</td>\n",
              "      <td>NaN</td>\n",
              "      <td>NaN</td>\n",
              "      <td>NaN</td>\n",
              "      <td>NaN</td>\n",
              "      <td>NaN</td>\n",
              "      <td>NaN</td>\n",
              "      <td>NaN</td>\n",
              "      <td>NaN</td>\n",
              "      <td>NaN</td>\n",
              "      <td>NaN</td>\n",
              "      <td>NaN</td>\n",
              "      <td>NaN</td>\n",
              "      <td>NaN</td>\n",
              "      <td>NaN</td>\n",
              "    </tr>\n",
              "    <tr>\n",
              "      <th>15054</th>\n",
              "      <td>2021-05-19 00:00:00</td>\n",
              "      <td>Bihar</td>\n",
              "      <td>595377.0</td>\n",
              "      <td>4039.0</td>\n",
              "      <td>664115.0</td>\n",
              "      <td>64699.0</td>\n",
              "      <td>NaN</td>\n",
              "      <td>NaN</td>\n",
              "      <td>NaN</td>\n",
              "      <td>NaN</td>\n",
              "      <td>NaN</td>\n",
              "      <td>NaN</td>\n",
              "      <td>NaN</td>\n",
              "      <td>NaN</td>\n",
              "      <td>NaN</td>\n",
              "      <td>NaN</td>\n",
              "      <td>NaN</td>\n",
              "      <td>NaN</td>\n",
              "      <td>NaN</td>\n",
              "      <td>NaN</td>\n",
              "      <td>NaN</td>\n",
              "      <td>NaN</td>\n",
              "      <td>NaN</td>\n",
              "      <td>NaN</td>\n",
              "      <td>NaN</td>\n",
              "    </tr>\n",
              "  </tbody>\n",
              "</table>\n",
              "</div>"
            ],
            "text/plain": [
              "                      Date                        State  ...  Negative  Positive\n",
              "15050  2021-05-19 00:00:00  Andaman and Nicobar Islands  ...       NaN       NaN\n",
              "15051  2021-05-19 00:00:00               Andhra Pradesh  ...       NaN       NaN\n",
              "15052  2021-05-19 00:00:00            Arunachal Pradesh  ...       NaN       NaN\n",
              "15053  2021-05-19 00:00:00                        Assam  ...       NaN       NaN\n",
              "15054  2021-05-19 00:00:00                        Bihar  ...       NaN       NaN\n",
              "\n",
              "[5 rows x 25 columns]"
            ]
          },
          "metadata": {
            "tags": []
          },
          "execution_count": 28
        }
      ]
    },
    {
      "cell_type": "code",
      "metadata": {
        "id": "hMv95utY_NFp"
      },
      "source": [
        "india_cases[\"Date\"]=pd.to_datetime(india_cases[\"Date\"])"
      ],
      "execution_count": 29,
      "outputs": []
    },
    {
      "cell_type": "code",
      "metadata": {
        "id": "OAPYeGz8K3cq"
      },
      "source": [
        "india_cases = india_cases.sort_values(by=\"Date\")"
      ],
      "execution_count": 30,
      "outputs": []
    },
    {
      "cell_type": "code",
      "metadata": {
        "id": "Fj725lGPLmdT"
      },
      "source": [
        "india_cases=india_cases.fillna(0)"
      ],
      "execution_count": 31,
      "outputs": []
    },
    {
      "cell_type": "code",
      "metadata": {
        "id": "sDsEDzHxPCxV"
      },
      "source": [
        "india_cases.to_csv('india_cases.csv',index=False)"
      ],
      "execution_count": 32,
      "outputs": []
    },
    {
      "cell_type": "code",
      "metadata": {
        "id": "1Tw0Tz469l9P"
      },
      "source": [
        "cleaned_file = f\"india_cases.csv\""
      ],
      "execution_count": 33,
      "outputs": []
    },
    {
      "cell_type": "code",
      "metadata": {
        "id": "OTqFWScNUOvj"
      },
      "source": [
        "india_cases2 = india_cases.to_dict(\"records\")"
      ],
      "execution_count": 42,
      "outputs": []
    },
    {
      "cell_type": "code",
      "metadata": {
        "colab": {
          "base_uri": "https://localhost:8080/"
        },
        "id": "4ToHgxOtUqcC",
        "outputId": "94bfbffa-894e-4a92-8513-f530619246f9"
      },
      "source": [
        "india_cases2[0]"
      ],
      "execution_count": 43,
      "outputs": [
        {
          "output_type": "execute_result",
          "data": {
            "text/plain": [
              "{'18-30 years (Age)': 0.0,\n",
              " '30-45 years (Age)': 0.0,\n",
              " '45-60 years (Age)': 0.0,\n",
              " '60+ years (Age)': 0.0,\n",
              " 'AEFI': 0.0,\n",
              " 'Active': 0.0,\n",
              " 'Confirmed': 0.0,\n",
              " 'Cured': 0.0,\n",
              " 'Date': Timestamp('2020-04-01 00:00:00'),\n",
              " 'Deaths': 0.0,\n",
              " 'Female(Individuals Vaccinated)': 0.0,\n",
              " 'First Dose Administered': 0.0,\n",
              " 'Male(Individuals Vaccinated)': 0.0,\n",
              " 'Negative': '7256',\n",
              " 'Positive': 265.0,\n",
              " 'Second Dose Administered': 0.0,\n",
              " 'State': 'Kerala',\n",
              " 'Total Covaxin Administered': 0.0,\n",
              " 'Total CoviShield Administered': 0.0,\n",
              " 'Total Doses Administered': 0.0,\n",
              " 'Total Individuals Vaccinated': 0.0,\n",
              " 'Total Sites ': 0.0,\n",
              " 'Total Vaccinatons': 0.0,\n",
              " 'TotalSamples': 7965.0,\n",
              " 'Transgender(Individuals Vaccinated)': 0.0}"
            ]
          },
          "metadata": {
            "tags": []
          },
          "execution_count": 43
        }
      ]
    },
    {
      "cell_type": "code",
      "metadata": {
        "id": "kB6W9LQvwAYD"
      },
      "source": [
        "es = Elasticsearch(\n",
        "    ['https://elastic-weekend-indiavscovid.es.asia-south1.gcp.elastic-cloud.com:9243'],\n",
        "    http_auth=('elastic','YIs8LNZTQEgedS3SGB6eeSYs'),\n",
        "    scheme=\"https\",\n",
        "    port = 443, \n",
        ")"
      ],
      "execution_count": 88,
      "outputs": []
    },
    {
      "cell_type": "code",
      "metadata": {
        "colab": {
          "base_uri": "https://localhost:8080/"
        },
        "id": "njss4P80z55C",
        "outputId": "a18a4064-efec-419e-8b2c-198b50679463"
      },
      "source": [
        "es.info()"
      ],
      "execution_count": 82,
      "outputs": [
        {
          "output_type": "execute_result",
          "data": {
            "text/plain": [
              "{'cluster_name': '26dd90818c934c6a955f17692e3f39c8',\n",
              " 'cluster_uuid': 'lykkUC1OTJ-y_DEkX9Rj3w',\n",
              " 'name': 'instance-0000000001',\n",
              " 'tagline': 'You Know, for Search',\n",
              " 'version': {'build_date': '2021-04-20T20:56:39.040728659Z',\n",
              "  'build_flavor': 'default',\n",
              "  'build_hash': '3186837139b9c6b6d23c3200870651f10d3343b7',\n",
              "  'build_snapshot': False,\n",
              "  'build_type': 'docker',\n",
              "  'lucene_version': '8.8.0',\n",
              "  'minimum_index_compatibility_version': '6.0.0-beta1',\n",
              "  'minimum_wire_compatibility_version': '6.8.0',\n",
              "  'number': '7.12.1'}}"
            ]
          },
          "metadata": {
            "tags": []
          },
          "execution_count": 82
        }
      ]
    },
    {
      "cell_type": "code",
      "metadata": {
        "colab": {
          "base_uri": "https://localhost:8080/"
        },
        "id": "21JHRdmu06I9",
        "outputId": "e1d0e639-1163-429a-cff2-985d3861ed08"
      },
      "source": [
        "es.indices.delete(index = \"india_cases2\",ignore=[400,401])"
      ],
      "execution_count": 110,
      "outputs": [
        {
          "output_type": "execute_result",
          "data": {
            "text/plain": [
              "{'acknowledged': True}"
            ]
          },
          "metadata": {
            "tags": []
          },
          "execution_count": 110
        }
      ]
    },
    {
      "cell_type": "code",
      "metadata": {
        "colab": {
          "base_uri": "https://localhost:8080/"
        },
        "id": "HfxWTi2W3ole",
        "outputId": "901c620f-7588-4448-a782-bb0e2cd31cf7"
      },
      "source": [
        "es.indices.create(index = \"india_cases2\",ignore = 400)"
      ],
      "execution_count": 111,
      "outputs": [
        {
          "output_type": "execute_result",
          "data": {
            "text/plain": [
              "{'acknowledged': True, 'index': 'india_cases2', 'shards_acknowledged': True}"
            ]
          },
          "metadata": {
            "tags": []
          },
          "execution_count": 111
        }
      ]
    },
    {
      "cell_type": "code",
      "metadata": {
        "id": "QINzIcNxUtzM"
      },
      "source": [
        "def generator(india_cases2):\n",
        "  for c,line in enumerate(india_cases2):\n",
        "    yield{\n",
        "        '_index':'india_cases2',\n",
        "        '_type': '_doc',\n",
        "        '_id': c,\n",
        "        '_source': {\n",
        "            'Date':line.get('Date',\"\"),\n",
        "            'State':line.get('State',\"\"),\n",
        "            'Deaths':line.get('Deaths',\"\"),\n",
        "            'Confirmed':line.get('Confirmed',\"\"),\n",
        "            'Active':line.get('Active',\"\"),\n",
        "            'Total Individuals Vaccinated':line.get('Total Individuals Vaccinated',\"\"),\n",
        "            'Total Sites ':line.get('Total Sites ',\"\"),\n",
        "            'First Dose Administered':line.get('First Dose Administered',\"\"),\n",
        "            'Second Dose Administered':line.get('Second Dose Administered',\"\"),\n",
        "            'Male(Individuals Vaccinated)':line.get('Male(Individuals Vaccinated)',\"\"),\n",
        "            'Female(Individuals Vaccinated)':line.get('Female(Individuals Vaccinated)',\"\"),\n",
        "            'Transgender(Individuals Vaccinated)':line.get('Transgender(Individuals Vaccinated)',\"\"),\n",
        "            'Total Covaxin Administered':line.get('Total Covaxin Administered',\"\"),\n",
        "            'Total CoviShield Administered':line.get('Total CoviShield Administered',\"\"),\n",
        "            'AEFI':line.get('AEFI',\"\"),\n",
        "            '18-30 years (Age)':line.get('18-30 years (Age)',\"\"),\n",
        "            '30-45 years (Age)':line.get('30-45 years (Age)',\"\"),\n",
        "            '45-60 years (Age)':line.get('45-60 years (Age)',\"\"),\n",
        "            '60+ years (Age)':line.get('60+ years (Age)',\"\"),\n",
        "            'Total Doses Administered':line.get('Total Doses Administered',\"\"),\n",
        "            'Total Vaccinatons':line.get('Total Vaccinatons',\"\"),\n",
        "            'TotalSamples':line.get('TotalSamples',\"\"),\n",
        "            'Negative':line.get('Negative',\"\"),\n",
        "            'Positive':line.get('Positive',\"\"),\n",
        "        }\n",
        "    }\n",
        "  raise StopIteration"
      ],
      "execution_count": 103,
      "outputs": []
    },
    {
      "cell_type": "code",
      "metadata": {
        "id": "zNhGt7PGje9e"
      },
      "source": [
        "try:\n",
        "  res = helpers.bulk(es,generator(india_cases2))\n",
        "  print(\"Working\")\n",
        "except Exception as e:\n",
        "  pass"
      ],
      "execution_count": 112,
      "outputs": []
    }
  ]
}